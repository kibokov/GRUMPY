{
 "cells": [
  {
   "cell_type": "markdown",
   "metadata": {},
   "source": [
    "# Subhalo Random Forest Classification"
   ]
  },
  {
   "cell_type": "markdown",
   "metadata": {},
   "source": [
    "## Train Random Forest Classifier and Analyze Performance\n",
    "\n",
    "This notebook steps through training a random forest to identify disrupted and surviving subhalos in zoom-in simulations. After loading training data containing appropriate features for each disrupted and surviving subhalo, a random forest classifier is tuned using the $\\texttt{GridSearchCV}$ function and its performance (e.g., test set accuracy, true/false positive rates, confusion matrix, ROC curve) is analyzed. We provide our trained model $\\texttt{finalized}\\_\\texttt{rf.sav}$ in the repository."
   ]
  },
  {
   "cell_type": "markdown",
   "metadata": {},
   "source": [
    "### Imports"
   ]
  },
  {
   "cell_type": "code",
   "execution_count": null,
   "metadata": {
    "collapsed": false,
    "slideshow": {
     "slide_type": "fragment"
    }
   },
   "outputs": [],
   "source": [
    "import numpy as np\n",
    "import pandas as pd\n",
    "import pickle"
   ]
  },
  {
   "cell_type": "code",
   "execution_count": null,
   "metadata": {
    "collapsed": false,
    "slideshow": {
     "slide_type": "slide"
    }
   },
   "outputs": [],
   "source": [
    "from sklearn.metrics import confusion_matrix\n",
    "from sklearn.model_selection import train_test_split\n",
    "from sklearn.ensemble import RandomForestClassifier\n",
    "from sklearn.model_selection import GridSearchCV\n",
    "from sklearn.model_selection import cross_val_score\n",
    "from sklearn.metrics import roc_curve, auc"
   ]
  },
  {
   "cell_type": "code",
   "execution_count": null,
   "metadata": {
    "collapsed": true
   },
   "outputs": [],
   "source": [
    "import matplotlib as mpl\n",
    "import matplotlib.pyplot as plt\n",
    "%matplotlib inline\n",
    "\n",
    "import seaborn as sns \n",
    "sns.set_style(\"ticks\")\n",
    "blue = sns.light_palette(\"blue\")[5]\n",
    "red = sns.light_palette(\"red\")[5]"
   ]
  },
  {
   "cell_type": "markdown",
   "metadata": {},
   "source": [
    "### Load Data\n",
    "\n",
    "Note: if the user wishes to train a model on different simulations, they should load the relevant training data below. "
   ]
  },
  {
   "cell_type": "code",
   "execution_count": null,
   "metadata": {
    "collapsed": false
   },
   "outputs": [],
   "source": [
    "#Load surviving & disrupted subhalo features in matrix of size (#subhalos, #features)\n",
    "m12i_surviving_properties = np.loadtxt('m12i_surviving_properties_dperiaaccvaccmaccaperi.txt')\n",
    "m12i_destroyed_properties = np.loadtxt('m12i_destroyed_properties_dperiaaccvaccmaccaperi.txt')\n",
    "m12i_surviving_labels = np.zeros(len(m12i_surviving_properties))\n",
    "m12i_destroyed_labels = np.ones(len(m12i_destroyed_properties))\n",
    "\n",
    "m12f_surviving_properties = np.loadtxt('m12f_surviving_properties_dperiaaccvaccmaccaperi.txt')\n",
    "m12f_destroyed_properties = np.loadtxt('m12f_destroyed_properties_dperiaaccvaccmaccaperi.txt')\n",
    "m12f_surviving_labels = np.zeros(len(m12f_surviving_properties))\n",
    "m12f_destroyed_labels = np.ones(len(m12f_destroyed_properties))"
   ]
  },
  {
   "cell_type": "code",
   "execution_count": null,
   "metadata": {
    "collapsed": false
   },
   "outputs": [],
   "source": [
    "#Combine data from different hosts\n",
    "subhalo_properties = np.concatenate((m12i_surviving_properties, \\\n",
    "                                     m12f_surviving_properties, \\\n",
    "                                     m12i_destroyed_properties, \\\n",
    "                                     m12f_destroyed_properties))\n",
    "\n",
    "subhalo_labels = np.concatenate((m12i_surviving_labels, \\\n",
    "                                 m12f_surviving_labels, \\\n",
    "                                 m12i_destroyed_labels, \\\n",
    "                                 m12f_destroyed_labels))"
   ]
  },
  {
   "cell_type": "code",
   "execution_count": null,
   "metadata": {
    "collapsed": false
   },
   "outputs": [],
   "source": [
    "#Construct design matrix and target labels\n",
    "X = subhalo_properties\n",
    "y = subhalo_labels\n",
    "\n",
    "#If only one feature is used, reshape design matrix\n",
    "#X = X.reshape(-1,1)"
   ]
  },
  {
   "cell_type": "code",
   "execution_count": null,
   "metadata": {
    "collapsed": false
   },
   "outputs": [],
   "source": [
    "all_features = pd.DataFrame(X)\n",
    "all_features = all_features.rename(index=str, columns={0:\"$d_{peri}$\", \\\n",
    "                                                       1: \"$a_{acc}$\", \\\n",
    "                                                       2: \"$V_{acc}$\", \\\n",
    "                                                       3: \"$M_{acc}$\", \\\n",
    "                                                       4: \"$a_{peri}$\"})"
   ]
  },
  {
   "cell_type": "markdown",
   "metadata": {
    "slideshow": {
     "slide_type": "slide"
    }
   },
   "source": [
    "### Default Random Forest Classification"
   ]
  },
  {
   "cell_type": "code",
   "execution_count": null,
   "metadata": {
    "collapsed": false
   },
   "outputs": [],
   "source": [
    "rf = RandomForestClassifier(n_estimators=100, oob_score=True)\n",
    "rf.fit(X, y)"
   ]
  },
  {
   "cell_type": "code",
   "execution_count": null,
   "metadata": {
    "collapsed": false
   },
   "outputs": [],
   "source": [
    "rf.feature_importances_"
   ]
  },
  {
   "cell_type": "code",
   "execution_count": null,
   "metadata": {
    "collapsed": false
   },
   "outputs": [],
   "source": [
    "rf.oob_score_"
   ]
  },
  {
   "cell_type": "markdown",
   "metadata": {
    "slideshow": {
     "slide_type": "slide"
    }
   },
   "source": [
    "### Tune Random Forest Classifier with GridSearchCV"
   ]
  },
  {
   "cell_type": "code",
   "execution_count": null,
   "metadata": {
    "collapsed": false
   },
   "outputs": [],
   "source": [
    "#Hyperparameters to try:\n",
    "parameters = {'n_estimators':(100,500,750,1000), \"max_features\": [\"auto\"],\n",
    "              'criterion':[\"gini\",\"entropy\"], \"min_samples_leaf\": [1,2,4]}\n",
    "\n",
    "# Train/test split:\n",
    "X_train, X_test, y_train, y_test = \\\n",
    "    train_test_split(X, y, test_size=0.25)"
   ]
  },
  {
   "cell_type": "code",
   "execution_count": null,
   "metadata": {
    "collapsed": false,
    "slideshow": {
     "slide_type": "slide"
    }
   },
   "outputs": [],
   "source": [
    "# Do a grid search to find the highest n-fold cross-validation score:\n",
    "n = 10\n",
    "rf_tuned = GridSearchCV(rf, parameters, cv=n, verbose=1)\n",
    "RFselector = rf_tuned.fit(X_train, y_train)"
   ]
  },
  {
   "cell_type": "code",
   "execution_count": null,
   "metadata": {
    "collapsed": false
   },
   "outputs": [],
   "source": [
    "# Print the best score and estimator:\n",
    "print('Best OOB score:', RFselector.best_score_)\n",
    "print(RFselector.best_estimator_)\n",
    "\n",
    "#Print the best hyperparameters:\n",
    "RFselector.best_params_"
   ]
  },
  {
   "cell_type": "code",
   "execution_count": null,
   "metadata": {
    "collapsed": false
   },
   "outputs": [],
   "source": [
    "#Raw accuracy\n",
    "y_pred_all = RFselector.predict(X)\n",
    "len(y_pred_all[y_pred_all==y])/len(y_pred_all)"
   ]
  },
  {
   "cell_type": "code",
   "execution_count": null,
   "metadata": {
    "collapsed": false
   },
   "outputs": [],
   "source": [
    "#Save finalized model\n",
    "filename = 'finalized_rf.sav'\n",
    "pickle.dump(RFselector, open(filename, 'wb'))"
   ]
  },
  {
   "cell_type": "code",
   "execution_count": null,
   "metadata": {
    "collapsed": true
   },
   "outputs": [],
   "source": [
    "#Load finalized model\n",
    "loaded_model = pickle.load(open(filename, 'rb'))"
   ]
  },
  {
   "cell_type": "code",
   "execution_count": null,
   "metadata": {
    "collapsed": false
   },
   "outputs": [],
   "source": [
    "#Check raw accuracy of loaded model\n",
    "len(loaded_model.predict(X)[loaded_model.predict(X)==y])/len(y_pred_all)"
   ]
  },
  {
   "cell_type": "markdown",
   "metadata": {},
   "source": [
    "### Analyze Performance on Test Set"
   ]
  },
  {
   "cell_type": "code",
   "execution_count": null,
   "metadata": {
    "collapsed": true
   },
   "outputs": [],
   "source": [
    "y_pred = RFselector.predict(X_test)"
   ]
  },
  {
   "cell_type": "code",
   "execution_count": null,
   "metadata": {
    "collapsed": false
   },
   "outputs": [],
   "source": [
    "#Confusion matrix\n",
    "cm = confusion_matrix(y_test, y_pred)\n",
    "surv_frac = cm[0][0]/(cm[0][0]+cm[0][1])\n",
    "dest_frac = cm[1][1]/(cm[1][0]+cm[1][1])\n",
    "\n",
    "print('Fraction of surviving subhalos in test set labeled correctly: %0.2f' % surv_frac)\n",
    "print('Fraction of disrupted subhalos in test set labeled correctly: %0.2f' % dest_frac)\n",
    "\n",
    "\n",
    "plt.figure(figsize=(8,6))\n",
    "plt.matshow(cm)\n",
    "plt.title('Confusion Matrix', fontsize=18, position = (0.5,1.1))\n",
    "plt.colorbar()\n",
    "plt.ylabel('True label', fontsize=16)\n",
    "plt.xlabel('Predicted label', fontsize=16, position = (0.5, -10.5))\n",
    "plt.tick_params(labelsize=12)\n",
    "plt.show()"
   ]
  },
  {
   "cell_type": "code",
   "execution_count": null,
   "metadata": {
    "collapsed": true
   },
   "outputs": [],
   "source": [
    "#Check performance for different training/test sets\n",
    "n_tests = 10\n",
    "score = np.zeros(n_tests)\n",
    "surv = np.zeros(n_tests)\n",
    "dest = np.zeros(n_tests)\n",
    "\n",
    "for i in range (0,n_tests):\n",
    "    X_train, X_test, y_train, y_test = \\\n",
    "        train_test_split(X, y, test_size=0.25)\n",
    "    rf = RandomForestClassifier(n_estimators=1000, criterion='entropy', \\\n",
    "                                min_samples_leaf=1, oob_score=True)\n",
    "    rf.fit(X_train, y_train)\n",
    "    score[i] = rf.oob_score_\n",
    "    y_pred = rf.predict(X_test)\n",
    "    cm = confusion_matrix(y_test, y_pred)\n",
    "    surv[i] = cm[0][0]/(cm[0][0]+cm[0][1])\n",
    "    dest[i] = cm[1][1]/(cm[1][0]+cm[1][1])\n",
    "    \n",
    "print('Mean number of surviving subhalos identified correctly: %0.2f' % np.mean(surv))\n",
    "print('Mean number of disrupted subhalos identified correctly: %0.2f' % np.mean(dest))"
   ]
  },
  {
   "cell_type": "markdown",
   "metadata": {
    "slideshow": {
     "slide_type": "slide"
    }
   },
   "source": [
    "### ROC Curve "
   ]
  },
  {
   "cell_type": "code",
   "execution_count": null,
   "metadata": {
    "collapsed": false
   },
   "outputs": [],
   "source": [
    "# Classify the test data and store classification probabilities:\n",
    "BestRFselector = RFselector.best_estimator_\n",
    "y_prob = BestRFselector.fit(X_train, y_train).predict_proba(X_test)"
   ]
  },
  {
   "cell_type": "code",
   "execution_count": null,
   "metadata": {
    "collapsed": false,
    "slideshow": {
     "slide_type": "slide"
    }
   },
   "outputs": [],
   "source": [
    "# Compute ROC curve and area under curve (AUC) for each class:\n",
    "labels = BestRFselector.classes_\n",
    "fpr = dict()\n",
    "tpr = dict()\n",
    "roc_auc = dict()\n",
    "for i,label in enumerate(labels):\n",
    "    fpr[label], tpr[label], _ = roc_curve(y_test, y_prob[:, i], pos_label=label)\n",
    "    roc_auc[label] = auc(fpr[label], tpr[label])"
   ]
  },
  {
   "cell_type": "code",
   "execution_count": null,
   "metadata": {
    "collapsed": false
   },
   "outputs": [],
   "source": [
    "roc_auc"
   ]
  },
  {
   "cell_type": "code",
   "execution_count": null,
   "metadata": {
    "collapsed": false
   },
   "outputs": [],
   "source": [
    "plt.figure(figsize=(8,6))\n",
    "plt.plot([0, 1], [1, 1], color=red, linestyle='-', linewidth=3, label='Perfect Classifier (AUC = %0.2f)' % (1.0))\n",
    "plt.plot(fpr[1], tpr[1], lw=3, label='Random Forest (AUC = %0.2f)' % (roc_auc[1]), color=blue)\n",
    "plt.plot([0, 1], [0, 1], color='black', linestyle=':', linewidth=2.5, label='Random Classifier (AUC = %0.2f)' % (0.5))\n",
    "\n",
    "plt.xlim([0.0, 1.0])\n",
    "plt.ylim([0.0, 1.025])\n",
    "plt.tick_params(labelsize=16)\n",
    "plt.xlabel('Destroyed Labeled Surviving', fontsize=20, labelpad=8)\n",
    "plt.ylabel('Destroyed Labeled Destroyed', fontsize=20, labelpad=8)\n",
    "plt.title('True vs. False Positive Classification Rate', fontsize=20)\n",
    "plt.legend(loc=\"lower right\", fontsize=16);"
   ]
  }
 ],
 "metadata": {
  "anaconda-cloud": {},
  "celltoolbar": "Slideshow",
  "kernelspec": {
   "display_name": "Python 3",
   "language": "python",
   "name": "python3"
  },
  "language_info": {
   "codemirror_mode": {
    "name": "ipython",
    "version": 3
   },
   "file_extension": ".py",
   "mimetype": "text/x-python",
   "name": "python",
   "nbconvert_exporter": "python",
   "pygments_lexer": "ipython3",
   "version": "3.5.2"
  },
  "livereveal": {
   "scroll": true,
   "start_slideshow_at": "selected"
  }
 },
 "nbformat": 4,
 "nbformat_minor": 0
}
