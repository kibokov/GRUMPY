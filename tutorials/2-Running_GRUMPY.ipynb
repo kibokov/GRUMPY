{
 "cells": [
  {
   "cell_type": "code",
   "execution_count": 1,
   "metadata": {},
   "outputs": [],
   "source": [
    "### using FSPS or not? using disruption or not?"
   ]
  },
  {
   "cell_type": "code",
   "execution_count": 2,
   "metadata": {},
   "outputs": [],
   "source": [
    "# ## handing bad cases of integration. Possible solutions including smoothing your MAH (a simple way to do this \n",
    "# is to undersample your high time cadence MAH). \n",
    "\n",
    "# we do not have a inbuilt method to fix bad/unphysical MAHs, at the moment, you will have to be careful that not\n",
    "# many such bad MAHs exist ... fb"
   ]
  },
  {
   "cell_type": "code",
   "execution_count": null,
   "metadata": {},
   "outputs": [],
   "source": []
  }
 ],
 "metadata": {
  "kernelspec": {
   "display_name": "Python 3",
   "language": "python",
   "name": "python3"
  },
  "language_info": {
   "codemirror_mode": {
    "name": "ipython",
    "version": 3
   },
   "file_extension": ".py",
   "mimetype": "text/x-python",
   "name": "python",
   "nbconvert_exporter": "python",
   "pygments_lexer": "ipython3",
   "version": "3.7.6"
  }
 },
 "nbformat": 4,
 "nbformat_minor": 4
}
